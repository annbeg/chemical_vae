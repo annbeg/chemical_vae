{
 "cells": [
  {
   "cell_type": "markdown",
   "metadata": {},
   "source": [
    "# Необходимые библиотеки"
   ]
  },
  {
   "cell_type": "code",
   "execution_count": 26,
   "metadata": {},
   "outputs": [],
   "source": [
    "# tensorflow backend\n",
    "from os import environ\n",
    "environ['KERAS_BACKEND'] = 'tensorflow'\n",
    "# vae stuff\n",
    "from chemvae.vae_utils import VAEUtils\n",
    "from chemvae import mol_utils as mu\n",
    "# import scientific py\n",
    "import numpy as np\n",
    "import pandas as pd\n",
    "# rdkit stuff\n",
    "from rdkit.Chem import AllChem as Chem\n",
    "from rdkit.Chem import PandasTools\n",
    "# plotting stuff\n",
    "import matplotlib.pyplot as plt\n",
    "import matplotlib as mpl\n",
    "from IPython.display import SVG, display\n",
    "%config InlineBackend.figure_format = 'retina'\n",
    "%matplotlib inline"
   ]
  },
  {
   "cell_type": "markdown",
   "metadata": {},
   "source": [
    "# Модель"
   ]
  },
  {
   "cell_type": "code",
   "execution_count": 27,
   "metadata": {
    "collapsed": true
   },
   "outputs": [
    {
     "name": "stdout",
     "output_type": "stream",
     "text": [
      "Using standarized functions? True\n",
      "Standarization: estimating mu and std values ...done!\n"
     ]
    }
   ],
   "source": [
    "vae = VAEUtils(directory='models/zinc_properties')"
   ]
  },
  {
   "cell_type": "markdown",
   "metadata": {},
   "source": [
    "# Первая формула"
   ]
  },
  {
   "cell_type": "code",
   "execution_count": 28,
   "metadata": {},
   "outputs": [
    {
     "name": "stdout",
     "output_type": "stream",
     "text": [
      "Input                : Cc1ccc(S2(=O)=NC(=O)Nc3ccccc32)cc1\n",
      "Reconstruction       : C(cccc(-](=OC(NC(=O)Nc3ccccc32)cc1\n",
      "Z representation     : (1, 196) with norm 10.278\n",
      "\n",
      "Properties\n",
      "- qed  :0.7231325507164001\n",
      "- SAS  :2.410372495651245\n",
      "- logP :3.1467232704162598\n"
     ]
    }
   ],
   "source": [
    "smiles = mu.canon_smiles('Cc1ccc(S2(=O)=NC(=O)Nc3ccccc32)cc1')\n",
    "\n",
    "\n",
    "smiles_to_hot = vae.smiles_to_hot(smiles,canonize_smiles=True)\n",
    "z_1 = vae.encode(smiles_to_hot)\n",
    "X_r= vae.decode(z_1)\n",
    "\n",
    "\n",
    "print('{:20s} : {}'.format('Input',smiles))\n",
    "print('{:20s} : {}'.format('Reconstruction',vae.hot_to_smiles(X_r,strip=True)[0]))\n",
    "print('{:20s} : {} with norm {:.3f}'.format('Z representation',z_1.shape, np.linalg.norm(z_1)))\n",
    "print()\n",
    "\n",
    "qed, SAS, logP  = vae.predict_prop_Z(z_1)[0]\n",
    "print('Properties')\n",
    "print('{:7s}:{}'.format('- qed',qed))\n",
    "print('{:7s}:{}'.format('- SAS', SAS))\n",
    "print('{:7s}:{}'.format('- logP', logP))"
   ]
  },
  {
   "cell_type": "code",
   "execution_count": null,
   "metadata": {},
   "outputs": [],
   "source": [
    "noise=3.0\n",
    "print('Случайные молекулы находящиеся в {:.2f} стандартных отклонениях от точки'.format(noise))\n",
    "df = vae.z_to_smiles( z_1,decode_attempts=100,noise_norm=noise)\n",
    "print('Found {:d} unique mols, out of {:d}'.format(len(set(df['smiles'])),sum(df['count'])))\n",
    "print('SMILES\\n',df.smiles)\n",
    "display(PandasTools.FrameToGridImage(df,column='mol', legendsCol='smiles',molsPerRow=5))\n",
    "df"
   ]
  },
  {
   "cell_type": "code",
   "execution_count": null,
   "metadata": {},
   "outputs": [],
   "source": []
  },
  {
   "cell_type": "code",
   "execution_count": 29,
   "metadata": {},
   "outputs": [
    {
     "name": "stdout",
     "output_type": "stream",
     "text": [
      "Input                : CN(Cc1ccc2c(c1)C(=O)CC2)C(=O)OC(C)(C)C\n",
      "Reconstruction       : CN(C)cccc2c(c1)C(=O)CC2)C(=O)OC(C)(C)C\n",
      "Z representation     : (1, 196) with norm 13.424\n",
      "\n",
      "Properties\n",
      "- qed  :0.8115883469581604\n",
      "- SAS  :2.219855308532715\n",
      "- logP :2.4382758140563965\n"
     ]
    }
   ],
   "source": [
    "smiles = mu.canon_smiles('CN(Cc1ccc2c(c1)C(=O)CC2)C(=O)OC(C)(C)C')\n",
    "\n",
    "\n",
    "smiles_to_hot = vae.smiles_to_hot(smiles,canonize_smiles=True)\n",
    "z_1 = vae.encode(smiles_to_hot)\n",
    "X_r= vae.decode(z_1)\n",
    "\n",
    "\n",
    "print('{:20s} : {}'.format('Input',smiles))\n",
    "print('{:20s} : {}'.format('Reconstruction',vae.hot_to_smiles(X_r,strip=True)[0]))\n",
    "print('{:20s} : {} with norm {:.3f}'.format('Z representation',z_1.shape, np.linalg.norm(z_1)))\n",
    "print()\n",
    "\n",
    "qed, SAS, logP  = vae.predict_prop_Z(z_1)[0]\n",
    "print('Properties')\n",
    "print('{:7s}:{}'.format('- qed',qed))\n",
    "print('{:7s}:{}'.format('- SAS', SAS))\n",
    "print('{:7s}:{}'.format('- logP', logP))"
   ]
  },
  {
   "cell_type": "code",
   "execution_count": null,
   "metadata": {},
   "outputs": [],
   "source": [
    "noise=3.0\n",
    "print('Случайные молекулы находящиеся в {:.2f} стандартных отклонениях от точки'.format(noise))\n",
    "df = vae.z_to_smiles( z_1,decode_attempts=100,noise_norm=noise)\n",
    "print('Found {:d} unique mols, out of {:d}'.format(len(set(df['smiles'])),sum(df['count'])))\n",
    "print('SMILES\\n',df.smiles)\n",
    "display(PandasTools.FrameToGridImage(df,column='mol', legendsCol='smiles',molsPerRow=5))\n",
    "df"
   ]
  },
  {
   "cell_type": "code",
   "execution_count": null,
   "metadata": {},
   "outputs": [],
   "source": []
  },
  {
   "cell_type": "code",
   "execution_count": 30,
   "metadata": {},
   "outputs": [
    {
     "name": "stdout",
     "output_type": "stream",
     "text": [
      "Input                : COC(=O)C1CCC(Oc2ccc(NC(=O)C(=O)NN)cn2)CC1\n",
      "Reconstruction       : COC(=O)C1CCC(Oc2ccc(NC(=O)C(=O)NN)cn2)CC1\n",
      "Z representation     : (1, 196) with norm 13.105\n",
      "\n",
      "Properties\n",
      "- qed  :0.7531525492668152\n",
      "- SAS  :2.4784982204437256\n",
      "- logP :0.0503462553024292\n"
     ]
    }
   ],
   "source": [
    "smiles = mu.canon_smiles('COC(=O)C1CCC(Oc2ccc(NC(=O)C(=O)NN)cn2)CC1')\n",
    "\n",
    "\n",
    "smiles_to_hot = vae.smiles_to_hot(smiles,canonize_smiles=True)\n",
    "z_1 = vae.encode(smiles_to_hot)\n",
    "X_r= vae.decode(z_1)\n",
    "\n",
    "\n",
    "print('{:20s} : {}'.format('Input',smiles))\n",
    "print('{:20s} : {}'.format('Reconstruction',vae.hot_to_smiles(X_r,strip=True)[0]))\n",
    "print('{:20s} : {} with norm {:.3f}'.format('Z representation',z_1.shape, np.linalg.norm(z_1)))\n",
    "print()\n",
    "\n",
    "qed, SAS, logP  = vae.predict_prop_Z(z_1)[0]\n",
    "print('Properties')\n",
    "print('{:7s}:{}'.format('- qed',qed))\n",
    "print('{:7s}:{}'.format('- SAS', SAS))\n",
    "print('{:7s}:{}'.format('- logP', logP))"
   ]
  },
  {
   "cell_type": "code",
   "execution_count": 33,
   "metadata": {},
   "outputs": [
    {
     "name": "stdout",
     "output_type": "stream",
     "text": [
      "Случайные молекулы находящиеся в 3.00 стандартных отклонениях от точки\n",
      "Found 4 unique mols, out of 55\n",
      "SMILES\n",
      " 0    COC(=O)C1CCC(Oc2ccc(NC(=O)C(=O)NN)cn2)CC1\n",
      "1    COC(=O)C1CC(COc2ccc(NC(=O)C(=O)NN)cn2)CC1\n",
      "2    COC(=O)C1CCC(Oc2ccc(NC(=O)C(=O)NC)cn2)CC1\n",
      "3    COC(=O)C1CC(COc2ccc(NC(=O)C(=O)NC)cn2)CC1\n",
      "Name: smiles, dtype: object\n"
     ]
    },
    {
     "name": "stderr",
     "output_type": "stream",
     "text": [
      "RDKit ERROR: [20:33:04] Can't kekulize mol.  Unkekulized atoms: 9 10 11 12 20\n",
      "RDKit ERROR: \n",
      "RDKit ERROR: [20:33:04] SMILES Parse Error: syntax error while parsing: COC(=O)C1CCC(Oc2ccc(NC(=O)C(=O)NN)cn2)C@1\n",
      "RDKit ERROR: [20:33:04] SMILES Parse Error: Failed parsing SMILES 'COC(=O)C1CCC(Oc2ccc(NC(=O)C(=O)NN)cn2)C@1' for input: 'COC(=O)C1CCC(Oc2ccc(NC(=O)C(=O)NN)cn2)C@1'\n",
      "RDKit ERROR: [20:33:04] Can't kekulize mol.  Unkekulized atoms: 9 10 11 12 20\n",
      "RDKit ERROR: \n",
      "RDKit ERROR: [20:33:04] Can't kekulize mol.  Unkekulized atoms: 9 10 11 12 20\n",
      "RDKit ERROR: \n",
      "RDKit ERROR: [20:33:04] Can't kekulize mol.  Unkekulized atoms: 9 10 11 12 20\n",
      "RDKit ERROR: \n",
      "RDKit ERROR: [20:33:04] Can't kekulize mol.  Unkekulized atoms: 9 10 11 12 19 20 21\n",
      "RDKit ERROR: \n",
      "RDKit ERROR: [20:33:04] SMILES Parse Error: syntax error while parsing: COC(=O)C1CCC(Oc2ccc(NC(=O)C(=O)N=O)n2)C@1\n",
      "RDKit ERROR: [20:33:04] SMILES Parse Error: Failed parsing SMILES 'COC(=O)C1CCC(Oc2ccc(NC(=O)C(=O)N=O)n2)C@1' for input: 'COC(=O)C1CCC(Oc2ccc(NC(=O)C(=O)N=O)n2)C@1'\n",
      "RDKit ERROR: [20:33:04] Can't kekulize mol.  Unkekulized atoms: 9 10 11 12 20\n",
      "RDKit ERROR: \n",
      "RDKit ERROR: [20:33:04] Can't kekulize mol.  Unkekulized atoms: 9 10 11 12 20\n",
      "RDKit ERROR: \n"
     ]
    },
    {
     "data": {
      "image/png": "[encoded data removed]",
      "text/plain": [
       "<PIL.PngImagePlugin.PngImageFile image mode=RGB size=1000x200 at 0x13808E668>"
      ]
     },
     "metadata": {},
     "output_type": "display_data"
    },
    {
     "data": {
      "text/html": [
       "<div>\n",
       "<style scoped>\n",
       "    .dataframe tbody tr th:only-of-type {\n",
       "        vertical-align: middle;\n",
       "    }\n",
       "\n",
       "    .dataframe tbody tr th {\n",
       "        vertical-align: top;\n",
       "    }\n",
       "\n",
       "    .dataframe thead th {\n",
       "        text-align: right;\n",
       "    }\n",
       "</style>\n",
       "<table border=\"1\" class=\"dataframe\">\n",
       "  <thead>\n",
       "    <tr style=\"text-align: right;\">\n",
       "      <th></th>\n",
       "      <th>smiles</th>\n",
       "      <th>distance</th>\n",
       "      <th>count</th>\n",
       "      <th>frequency</th>\n",
       "      <th>mol</th>\n",
       "    </tr>\n",
       "  </thead>\n",
       "  <tbody>\n",
       "    <tr>\n",
       "      <th>0</th>\n",
       "      <td>COC(=O)C1CCC(Oc2ccc(NC(=O)C(=O)NN)cn2)CC1</td>\n",
       "      <td>0.000008</td>\n",
       "      <td>42</td>\n",
       "      <td>0.763636</td>\n",
       "      <td>&lt;img data-content=\"rdkit/molecule\" src=\"data:i...</td>\n",
       "    </tr>\n",
       "    <tr>\n",
       "      <th>1</th>\n",
       "      <td>COC(=O)C1CC(COc2ccc(NC(=O)C(=O)NN)cn2)CC1</td>\n",
       "      <td>8.869821</td>\n",
       "      <td>2</td>\n",
       "      <td>0.036364</td>\n",
       "      <td>&lt;img data-content=\"rdkit/molecule\" src=\"data:i...</td>\n",
       "    </tr>\n",
       "    <tr>\n",
       "      <th>2</th>\n",
       "      <td>COC(=O)C1CCC(Oc2ccc(NC(=O)C(=O)NC)cn2)CC1</td>\n",
       "      <td>14.754904</td>\n",
       "      <td>10</td>\n",
       "      <td>0.181818</td>\n",
       "      <td>&lt;img data-content=\"rdkit/molecule\" src=\"data:i...</td>\n",
       "    </tr>\n",
       "    <tr>\n",
       "      <th>3</th>\n",
       "      <td>COC(=O)C1CC(COc2ccc(NC(=O)C(=O)NC)cn2)CC1</td>\n",
       "      <td>15.489749</td>\n",
       "      <td>1</td>\n",
       "      <td>0.018182</td>\n",
       "      <td>&lt;img data-content=\"rdkit/molecule\" src=\"data:i...</td>\n",
       "    </tr>\n",
       "  </tbody>\n",
       "</table>\n",
       "</div>"
      ],
      "text/plain": [
       "                                      smiles   distance  count  frequency  \\\n",
       "0  COC(=O)C1CCC(Oc2ccc(NC(=O)C(=O)NN)cn2)CC1   0.000008     42   0.763636   \n",
       "1  COC(=O)C1CC(COc2ccc(NC(=O)C(=O)NN)cn2)CC1   8.869821      2   0.036364   \n",
       "2  COC(=O)C1CCC(Oc2ccc(NC(=O)C(=O)NC)cn2)CC1  14.754904     10   0.181818   \n",
       "3  COC(=O)C1CC(COc2ccc(NC(=O)C(=O)NC)cn2)CC1  15.489749      1   0.018182   \n",
       "\n",
       "                                                 mol  \n",
       "0  <img data-content=\"rdkit/molecule\" src=\"data:i...  \n",
       "1  <img data-content=\"rdkit/molecule\" src=\"data:i...  \n",
       "2  <img data-content=\"rdkit/molecule\" src=\"data:i...  \n",
       "3  <img data-content=\"rdkit/molecule\" src=\"data:i...  "
      ]
     },
     "execution_count": 33,
     "metadata": {},
     "output_type": "execute_result"
    }
   ],
   "source": [
    "noise=3.0\n",
    "print('Случайные молекулы находящиеся в {:.2f} стандартных отклонениях от точки'.format(noise))\n",
    "df = vae.z_to_smiles( z_1,decode_attempts=100,noise_norm=noise)\n",
    "print('Found {:d} unique mols, out of {:d}'.format(len(set(df['smiles'])),sum(df['count'])))\n",
    "print('SMILES\\n',df.smiles)\n",
    "display(PandasTools.FrameToGridImage(df,column='mol', legendsCol='smiles',molsPerRow=5))\n",
    "df"
   ]
  },
  {
   "cell_type": "code",
   "execution_count": null,
   "metadata": {},
   "outputs": [],
   "source": []
  }
 ],
 "metadata": {
  "kernelspec": {
   "display_name": "Python 3",
   "language": "python",
   "name": "python3"
  },
  "language_info": {
   "codemirror_mode": {
    "name": "ipython",
    "version": 3
   },
   "file_extension": ".py",
   "mimetype": "text/x-python",
   "name": "python",
   "nbconvert_exporter": "python",
   "pygments_lexer": "ipython3",
   "version": "3.6.10"
  }
 },
 "nbformat": 4,
 "nbformat_minor": 4
}
