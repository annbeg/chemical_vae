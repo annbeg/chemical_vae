{
 "cells": [
  {
   "cell_type": "markdown",
   "metadata": {},
   "source": [
    "# Необходимые библиотеки"
   ]
  },
  {
   "cell_type": "code",
   "execution_count": 1,
   "metadata": {},
   "outputs": [
    {
     "name": "stderr",
     "output_type": "stream",
     "text": [
      "Using TensorFlow backend.\n",
      "/Users/aleksandrbutenko/opt/anaconda3/envs/chemvae/lib/python3.6/site-packages/tensorflow/python/framework/dtypes.py:471: FutureWarning: Passing (type, 1) or '1type' as a synonym of type is deprecated; in a future version of numpy, it will be understood as (type, (1,)) / '(1,)type'.\n",
      "  _np_qint8 = np.dtype([(\"qint8\", np.int8, 1)])\n",
      "/Users/aleksandrbutenko/opt/anaconda3/envs/chemvae/lib/python3.6/site-packages/tensorflow/python/framework/dtypes.py:472: FutureWarning: Passing (type, 1) or '1type' as a synonym of type is deprecated; in a future version of numpy, it will be understood as (type, (1,)) / '(1,)type'.\n",
      "  _np_quint8 = np.dtype([(\"quint8\", np.uint8, 1)])\n",
      "/Users/aleksandrbutenko/opt/anaconda3/envs/chemvae/lib/python3.6/site-packages/tensorflow/python/framework/dtypes.py:473: FutureWarning: Passing (type, 1) or '1type' as a synonym of type is deprecated; in a future version of numpy, it will be understood as (type, (1,)) / '(1,)type'.\n",
      "  _np_qint16 = np.dtype([(\"qint16\", np.int16, 1)])\n",
      "/Users/aleksandrbutenko/opt/anaconda3/envs/chemvae/lib/python3.6/site-packages/tensorflow/python/framework/dtypes.py:474: FutureWarning: Passing (type, 1) or '1type' as a synonym of type is deprecated; in a future version of numpy, it will be understood as (type, (1,)) / '(1,)type'.\n",
      "  _np_quint16 = np.dtype([(\"quint16\", np.uint16, 1)])\n",
      "/Users/aleksandrbutenko/opt/anaconda3/envs/chemvae/lib/python3.6/site-packages/tensorflow/python/framework/dtypes.py:475: FutureWarning: Passing (type, 1) or '1type' as a synonym of type is deprecated; in a future version of numpy, it will be understood as (type, (1,)) / '(1,)type'.\n",
      "  _np_qint32 = np.dtype([(\"qint32\", np.int32, 1)])\n"
     ]
    }
   ],
   "source": [
    "# tensorflow backend\n",
    "from os import environ\n",
    "environ['KERAS_BACKEND'] = 'tensorflow'\n",
    "# vae stuff\n",
    "from chemvae.vae_utils import VAEUtils\n",
    "from chemvae import mol_utils as mu\n",
    "# import scientific py\n",
    "import numpy as np\n",
    "import pandas as pd\n",
    "# rdkit stuff\n",
    "from rdkit.Chem import AllChem as Chem\n",
    "from rdkit.Chem import PandasTools\n",
    "# plotting stuff\n",
    "import matplotlib.pyplot as plt\n",
    "import matplotlib as mpl\n",
    "from IPython.display import SVG, display\n",
    "%config InlineBackend.figure_format = 'retina'\n",
    "%matplotlib inline"
   ]
  },
  {
   "cell_type": "markdown",
   "metadata": {},
   "source": [
    "# Модель"
   ]
  },
  {
   "cell_type": "code",
   "execution_count": 2,
   "metadata": {},
   "outputs": [
    {
     "name": "stderr",
     "output_type": "stream",
     "text": [
      "/Users/aleksandrbutenko/opt/anaconda3/envs/chemvae/lib/python3.6/site-packages/keras/models.py:245: UserWarning: No training configuration found in save file: the model was *not* compiled. Compile it manually.\n",
      "  warnings.warn('No training configuration found in save file: '\n"
     ]
    },
    {
     "name": "stdout",
     "output_type": "stream",
     "text": [
      "Using standarized functions? True\n",
      "Standarization: estimating mu and std values ...done!\n"
     ]
    }
   ],
   "source": [
    "vae = VAEUtils(directory='models/zinc_properties')"
   ]
  },
  {
   "cell_type": "markdown",
   "metadata": {},
   "source": [
    "# Первая формула"
   ]
  },
  {
   "cell_type": "code",
   "execution_count": 3,
   "metadata": {},
   "outputs": [
    {
     "name": "stdout",
     "output_type": "stream",
     "text": [
      "Input                : Cc1ccc(S2(=O)=NC(=O)Nc3ccccc32)cc1\n",
      "Reconstruction       : C(cccc(C[n+]2=NC(=O)Nc3ccccc32)cc1\n",
      "Z representation     : (1, 196) with norm 10.290\n",
      "\n",
      "Properties\n",
      "- qed  :0.7231325507164001\n",
      "- SAS  :2.410372495651245\n",
      "- logP :3.1467232704162598\n"
     ]
    }
   ],
   "source": [
    "smiles = mu.canon_smiles('Cc1ccc(S2(=O)=NC(=O)Nc3ccccc32)cc1')\n",
    "\n",
    "\n",
    "smiles_to_hot = vae.smiles_to_hot(smiles,canonize_smiles=True)\n",
    "z_1 = vae.encode(smiles_to_hot)\n",
    "X_r= vae.decode(z_1)\n",
    "\n",
    "\n",
    "print('{:20s} : {}'.format('Input',smiles))\n",
    "print('{:20s} : {}'.format('Reconstruction',vae.hot_to_smiles(X_r,strip=True)[0]))\n",
    "print('{:20s} : {} with norm {:.3f}'.format('Z representation',z_1.shape, np.linalg.norm(z_1)))\n",
    "print()\n",
    "\n",
    "qed, SAS, logP  = vae.predict_prop_Z(z_1)[0]\n",
    "print('Properties')\n",
    "print('{:7s}:{}'.format('- qed',qed))\n",
    "print('{:7s}:{}'.format('- SAS', SAS))\n",
    "print('{:7s}:{}'.format('- logP', logP))"
   ]
  },
  {
   "cell_type": "code",
   "execution_count": 4,
   "metadata": {},
   "outputs": [
    {
     "name": "stdout",
     "output_type": "stream",
     "text": [
      "Случайные молекулы находящиеся в 3.00 стандартных отклонениях от точки\n",
      "Found 5 unique mols, out of 18\n",
      "SMILES\n",
      " 0    Cc1ccc(C[N+]2=NC(=O)Nc3ccccc32)cc1\n",
      "1    Cc1ccc(C[n+]2=NC(=O)Nc3ccccc32)cc1\n",
      "2    Fc1ccc(C[N+]2=NC(=O)Nc3ccccc32)cc1\n",
      "3    C1cccc(C2=O)C(/C(=O)Nc3ccccc32)cc1\n",
      "4    C1cccc(C[N+]2=NC(=O)Nc3ccccc32)cc1\n",
      "Name: smiles, dtype: object\n"
     ]
    },
    {
     "name": "stderr",
     "output_type": "stream",
     "text": [
      "RDKit ERROR: [23:44:12] Explicit valence for atom # 0 Cl, 2, is greater than permitted\n",
      "RDKit ERROR: [23:44:12] Explicit valence for atom # 7 O, 3, is greater than permitted\n",
      "RDKit ERROR: [23:44:12] Explicit valence for atom # 1 O, 3, is greater than permitted\n",
      "RDKit ERROR: [23:44:12] Explicit valence for atom # 0 Cl, 2, is greater than permitted\n",
      "RDKit ERROR: [23:44:12] Explicit valence for atom # 1 O, 3, is greater than permitted\n",
      "RDKit ERROR: [23:44:12] SMILES Parse Error: syntax error while parsing: CO1ccc(C/N+]2=NC(=O)Nc3ccccc32)cc1\n",
      "RDKit ERROR: [23:44:12] SMILES Parse Error: Failed parsing SMILES 'CO1ccc(C/N+]2=NC(=O)Nc3ccccc32)cc1' for input: 'CO1ccc(C/N+]2=NC(=O)Nc3ccccc32)cc1'\n",
      "RDKit ERROR: [23:44:12] SMILES Parse Error: syntax error while parsing: Cl1ccc(C#N+]2=NC(=O)Nc3ccccc32)cc1\n",
      "RDKit ERROR: [23:44:12] SMILES Parse Error: Failed parsing SMILES 'Cl1ccc(C#N+]2=NC(=O)Nc3ccccc32)cc1' for input: 'Cl1ccc(C#N+]2=NC(=O)Nc3ccccc32)cc1'\n",
      "RDKit ERROR: [23:44:12] Explicit valence for atom # 0 Cl, 2, is greater than permitted\n",
      "RDKit ERROR: [23:44:12] Explicit valence for atom # 1 O, 3, is greater than permitted\n",
      "RDKit ERROR: [23:44:12] Explicit valence for atom # 1 O, 3, is greater than permitted\n"
     ]
    },
    {
     "data": {
      "image/png": "[encoded data removed]",
      "text/plain": [
       "<PIL.PngImagePlugin.PngImageFile image mode=RGB size=1000x200 at 0x126E0D2E8>"
      ]
     },
     "metadata": {},
     "output_type": "display_data"
    },
    {
     "data": {
      "text/html": [
       "<div>\n",
       "<style scoped>\n",
       "    .dataframe tbody tr th:only-of-type {\n",
       "        vertical-align: middle;\n",
       "    }\n",
       "\n",
       "    .dataframe tbody tr th {\n",
       "        vertical-align: top;\n",
       "    }\n",
       "\n",
       "    .dataframe thead th {\n",
       "        text-align: right;\n",
       "    }\n",
       "</style>\n",
       "<table border=\"1\" class=\"dataframe\">\n",
       "  <thead>\n",
       "    <tr style=\"text-align: right;\">\n",
       "      <th></th>\n",
       "      <th>smiles</th>\n",
       "      <th>distance</th>\n",
       "      <th>count</th>\n",
       "      <th>frequency</th>\n",
       "      <th>mol</th>\n",
       "    </tr>\n",
       "  </thead>\n",
       "  <tbody>\n",
       "    <tr>\n",
       "      <th>0</th>\n",
       "      <td>Cc1ccc(C[N+]2=NC(=O)Nc3ccccc32)cc1</td>\n",
       "      <td>10.716868</td>\n",
       "      <td>12</td>\n",
       "      <td>0.666667</td>\n",
       "      <td>&lt;img data-content=\"rdkit/molecule\" src=\"data:i...</td>\n",
       "    </tr>\n",
       "    <tr>\n",
       "      <th>1</th>\n",
       "      <td>Cc1ccc(C[n+]2=NC(=O)Nc3ccccc32)cc1</td>\n",
       "      <td>10.716868</td>\n",
       "      <td>3</td>\n",
       "      <td>0.166667</td>\n",
       "      <td>&lt;img data-content=\"rdkit/molecule\" src=\"data:i...</td>\n",
       "    </tr>\n",
       "    <tr>\n",
       "      <th>2</th>\n",
       "      <td>Fc1ccc(C[N+]2=NC(=O)Nc3ccccc32)cc1</td>\n",
       "      <td>14.072391</td>\n",
       "      <td>1</td>\n",
       "      <td>0.055556</td>\n",
       "      <td>&lt;img data-content=\"rdkit/molecule\" src=\"data:i...</td>\n",
       "    </tr>\n",
       "    <tr>\n",
       "      <th>3</th>\n",
       "      <td>C1cccc(C2=O)C(/C(=O)Nc3ccccc32)cc1</td>\n",
       "      <td>16.003908</td>\n",
       "      <td>1</td>\n",
       "      <td>0.055556</td>\n",
       "      <td>&lt;img data-content=\"rdkit/molecule\" src=\"data:i...</td>\n",
       "    </tr>\n",
       "    <tr>\n",
       "      <th>4</th>\n",
       "      <td>C1cccc(C[N+]2=NC(=O)Nc3ccccc32)cc1</td>\n",
       "      <td>16.264132</td>\n",
       "      <td>1</td>\n",
       "      <td>0.055556</td>\n",
       "      <td>&lt;img data-content=\"rdkit/molecule\" src=\"data:i...</td>\n",
       "    </tr>\n",
       "  </tbody>\n",
       "</table>\n",
       "</div>"
      ],
      "text/plain": [
       "                               smiles   distance  count  frequency  \\\n",
       "0  Cc1ccc(C[N+]2=NC(=O)Nc3ccccc32)cc1  10.716868     12   0.666667   \n",
       "1  Cc1ccc(C[n+]2=NC(=O)Nc3ccccc32)cc1  10.716868      3   0.166667   \n",
       "2  Fc1ccc(C[N+]2=NC(=O)Nc3ccccc32)cc1  14.072391      1   0.055556   \n",
       "3  C1cccc(C2=O)C(/C(=O)Nc3ccccc32)cc1  16.003908      1   0.055556   \n",
       "4  C1cccc(C[N+]2=NC(=O)Nc3ccccc32)cc1  16.264132      1   0.055556   \n",
       "\n",
       "                                                 mol  \n",
       "0  <img data-content=\"rdkit/molecule\" src=\"data:i...  \n",
       "1  <img data-content=\"rdkit/molecule\" src=\"data:i...  \n",
       "2  <img data-content=\"rdkit/molecule\" src=\"data:i...  \n",
       "3  <img data-content=\"rdkit/molecule\" src=\"data:i...  \n",
       "4  <img data-content=\"rdkit/molecule\" src=\"data:i...  "
      ]
     },
     "execution_count": 4,
     "metadata": {},
     "output_type": "execute_result"
    }
   ],
   "source": [
    "noise=3.0\n",
    "print('Случайные молекулы находящиеся в {:.2f} стандартных отклонениях от точки'.format(noise))\n",
    "df = vae.z_to_smiles( z_1,decode_attempts=100,noise_norm=noise)\n",
    "print('Found {:d} unique mols, out of {:d}'.format(len(set(df['smiles'])),sum(df['count'])))\n",
    "print('SMILES\\n',df.smiles)\n",
    "display(PandasTools.FrameToGridImage(df,column='mol', legendsCol='smiles',molsPerRow=5))\n",
    "df"
   ]
  },
  {
   "cell_type": "markdown",
   "metadata": {},
   "source": [
    "# Вторая формула"
   ]
  },
  {
   "cell_type": "code",
   "execution_count": 5,
   "metadata": {},
   "outputs": [
    {
     "name": "stdout",
     "output_type": "stream",
     "text": [
      "Input                : CN(Cc1ccc2c(c1)C(=O)CC2)C(=O)OC(C)(C)C\n",
      "Reconstruction       : CN(C)cccc2c(c1)C(=O)C@H]C(=O)OC(C)(C)C\n",
      "Z representation     : (1, 196) with norm 13.439\n",
      "\n",
      "Properties\n",
      "- qed  :0.8115883469581604\n",
      "- SAS  :2.219855308532715\n",
      "- logP :2.4382758140563965\n"
     ]
    }
   ],
   "source": [
    "smiles = mu.canon_smiles('CN(Cc1ccc2c(c1)C(=O)CC2)C(=O)OC(C)(C)C')\n",
    "\n",
    "\n",
    "smiles_to_hot = vae.smiles_to_hot(smiles,canonize_smiles=True)\n",
    "z_1 = vae.encode(smiles_to_hot)\n",
    "X_r= vae.decode(z_1)\n",
    "\n",
    "\n",
    "print('{:20s} : {}'.format('Input',smiles))\n",
    "print('{:20s} : {}'.format('Reconstruction',vae.hot_to_smiles(X_r,strip=True)[0]))\n",
    "print('{:20s} : {} with norm {:.3f}'.format('Z representation',z_1.shape, np.linalg.norm(z_1)))\n",
    "print()\n",
    "\n",
    "qed, SAS, logP  = vae.predict_prop_Z(z_1)[0]\n",
    "print('Properties')\n",
    "print('{:7s}:{}'.format('- qed',qed))\n",
    "print('{:7s}:{}'.format('- SAS', SAS))\n",
    "print('{:7s}:{}'.format('- logP', logP))"
   ]
  },
  {
   "cell_type": "code",
   "execution_count": 6,
   "metadata": {},
   "outputs": [
    {
     "name": "stdout",
     "output_type": "stream",
     "text": [
      "Случайные молекулы находящиеся в 3.00 стандартных отклонениях от точки\n",
      "Found 1 unique mols, out of 2\n",
      "SMILES\n",
      " 0    CN(C1cccc2c(c1)C(=O)CC2)C(=O)OC(C)(C)C\n",
      "Name: smiles, dtype: object\n"
     ]
    },
    {
     "name": "stderr",
     "output_type": "stream",
     "text": [
      "RDKit ERROR: [23:44:31] SMILES Parse Error: syntax error while parsing: CN(C1cccc2c(c1)C(=O)C@2)C(=O)OC(C)(C)C\n",
      "RDKit ERROR: [23:44:31] SMILES Parse Error: Failed parsing SMILES 'CN(C1cccc2c(c1)C(=O)C@2)C(=O)OC(C)(C)C' for input: 'CN(C1cccc2c(c1)C(=O)C@2)C(=O)OC(C)(C)C'\n"
     ]
    },
    {
     "data": {
      "image/png": "[encoded data removed]",
      "text/plain": [
       "<PIL.PngImagePlugin.PngImageFile image mode=RGB size=1000x200 at 0x135BE6F60>"
      ]
     },
     "metadata": {},
     "output_type": "display_data"
    },
    {
     "data": {
      "text/html": [
       "<div>\n",
       "<style scoped>\n",
       "    .dataframe tbody tr th:only-of-type {\n",
       "        vertical-align: middle;\n",
       "    }\n",
       "\n",
       "    .dataframe tbody tr th {\n",
       "        vertical-align: top;\n",
       "    }\n",
       "\n",
       "    .dataframe thead th {\n",
       "        text-align: right;\n",
       "    }\n",
       "</style>\n",
       "<table border=\"1\" class=\"dataframe\">\n",
       "  <thead>\n",
       "    <tr style=\"text-align: right;\">\n",
       "      <th></th>\n",
       "      <th>smiles</th>\n",
       "      <th>distance</th>\n",
       "      <th>count</th>\n",
       "      <th>frequency</th>\n",
       "      <th>mol</th>\n",
       "    </tr>\n",
       "  </thead>\n",
       "  <tbody>\n",
       "    <tr>\n",
       "      <th>0</th>\n",
       "      <td>CN(C1cccc2c(c1)C(=O)CC2)C(=O)OC(C)(C)C</td>\n",
       "      <td>18.253803</td>\n",
       "      <td>2</td>\n",
       "      <td>1.0</td>\n",
       "      <td>&lt;img data-content=\"rdkit/molecule\" src=\"data:i...</td>\n",
       "    </tr>\n",
       "  </tbody>\n",
       "</table>\n",
       "</div>"
      ],
      "text/plain": [
       "                                   smiles   distance  count  frequency  \\\n",
       "0  CN(C1cccc2c(c1)C(=O)CC2)C(=O)OC(C)(C)C  18.253803      2        1.0   \n",
       "\n",
       "                                                 mol  \n",
       "0  <img data-content=\"rdkit/molecule\" src=\"data:i...  "
      ]
     },
     "execution_count": 6,
     "metadata": {},
     "output_type": "execute_result"
    }
   ],
   "source": [
    "noise=3.0\n",
    "print('Случайные молекулы находящиеся в {:.2f} стандартных отклонениях от точки'.format(noise))\n",
    "df = vae.z_to_smiles( z_1,decode_attempts=100,noise_norm=noise)\n",
    "print('Found {:d} unique mols, out of {:d}'.format(len(set(df['smiles'])),sum(df['count'])))\n",
    "print('SMILES\\n',df.smiles)\n",
    "display(PandasTools.FrameToGridImage(df,column='mol', legendsCol='smiles',molsPerRow=5))\n",
    "df"
   ]
  },
  {
   "cell_type": "markdown",
   "metadata": {},
   "source": [
    "\n",
    "# Третья формула"
   ]
  },
  {
   "cell_type": "code",
   "execution_count": 7,
   "metadata": {},
   "outputs": [
    {
     "name": "stdout",
     "output_type": "stream",
     "text": [
      "Input                : COC(=O)C1CCC(Oc2ccc(NC(=O)C(=O)NN)cn2)CC1\n",
      "Reconstruction       : COC(=O)C1CC(COc2ccc(NC(=O)C(=O)NN)cn2)CC1\n",
      "Z representation     : (1, 196) with norm 13.117\n",
      "\n",
      "Properties\n",
      "- qed  :0.7531525492668152\n",
      "- SAS  :2.4784982204437256\n",
      "- logP :0.0503462553024292\n"
     ]
    }
   ],
   "source": [
    "smiles = mu.canon_smiles('COC(=O)C1CCC(Oc2ccc(NC(=O)C(=O)NN)cn2)CC1')\n",
    "\n",
    "\n",
    "smiles_to_hot = vae.smiles_to_hot(smiles,canonize_smiles=True)\n",
    "z_1 = vae.encode(smiles_to_hot)\n",
    "X_r= vae.decode(z_1)\n",
    "\n",
    "\n",
    "print('{:20s} : {}'.format('Input',smiles))\n",
    "print('{:20s} : {}'.format('Reconstruction',vae.hot_to_smiles(X_r,strip=True)[0]))\n",
    "print('{:20s} : {} with norm {:.3f}'.format('Z representation',z_1.shape, np.linalg.norm(z_1)))\n",
    "print()\n",
    "\n",
    "qed, SAS, logP  = vae.predict_prop_Z(z_1)[0]\n",
    "print('Properties')\n",
    "print('{:7s}:{}'.format('- qed',qed))\n",
    "print('{:7s}:{}'.format('- SAS', SAS))\n",
    "print('{:7s}:{}'.format('- logP', logP))"
   ]
  },
  {
   "cell_type": "code",
   "execution_count": 8,
   "metadata": {},
   "outputs": [
    {
     "name": "stdout",
     "output_type": "stream",
     "text": [
      "Случайные молекулы находящиеся в 3.00 стандартных отклонениях от точки\n",
      "Found 7 unique mols, out of 63\n",
      "SMILES\n",
      " 0    COC(=O)C1CCC(Oc2ccc(NC(=O)C(=O)NN)cn2)CC1\n",
      "1    COC(=O)C1CCC(Oc2ccc(NC(=O)C(=O)NN)cn2)CS1\n",
      "2    COC(=O)C1CCC(Nc2ccc(NC(=O)C(=O)NN)cn2)CC1\n",
      "3     COC(=O)C1CCC(Oc2ccc(NC(=O)C(=O)NN)cn2)C1\n",
      "4    COC(=O)C1CCC(Oc2ccc(NC(=O)C(=O)NN)nn2)CC1\n",
      "5    COC(=O)C1CC(COc2ccc(NC(=O)C(=O)NN)cn2)CC1\n",
      "6    COC(=O)C1CCC(Oc2ccc(NC(=O)C(=O)NC)cn2)CC1\n",
      "Name: smiles, dtype: object\n"
     ]
    },
    {
     "name": "stderr",
     "output_type": "stream",
     "text": [
      "RDKit ERROR: [23:45:09] Can't kekulize mol.  Unkekulized atoms: 9 10 11 12 20\n",
      "RDKit ERROR: \n",
      "RDKit ERROR: [23:45:09] Can't kekulize mol.  Unkekulized atoms: 9 10 11 12 20\n",
      "RDKit ERROR: \n",
      "RDKit ERROR: [23:45:09] Can't kekulize mol.  Unkekulized atoms: 9 10 11 12 20\n",
      "RDKit ERROR: \n",
      "RDKit ERROR: [23:45:09] SMILES Parse Error: syntax error while parsing: COC(=O)C1CC(COc2ccc(NC(=O)C(=O)NC)cn2)C@1\n",
      "RDKit ERROR: [23:45:09] SMILES Parse Error: Failed parsing SMILES 'COC(=O)C1CC(COc2ccc(NC(=O)C(=O)NC)cn2)C@1' for input: 'COC(=O)C1CC(COc2ccc(NC(=O)C(=O)NC)cn2)C@1'\n",
      "RDKit ERROR: [23:45:09] Can't kekulize mol.  Unkekulized atoms: 9 10 11 12 20\n",
      "RDKit ERROR: \n",
      "RDKit ERROR: [23:45:09] SMILES Parse Error: syntax error while parsing: COC(=O)C1CCC(Oc2ccc(NC(=O)C(=O)NN)cn2)C@1\n",
      "RDKit ERROR: [23:45:09] SMILES Parse Error: Failed parsing SMILES 'COC(=O)C1CCC(Oc2ccc(NC(=O)C(=O)NN)cn2)C@1' for input: 'COC(=O)C1CCC(Oc2ccc(NC(=O)C(=O)NN)cn2)C@1'\n",
      "RDKit ERROR: [23:45:09] Can't kekulize mol.  Unkekulized atoms: 9 10 11 12 20\n",
      "RDKit ERROR: \n"
     ]
    },
    {
     "data": {
      "image/png": "[encoded data removed]",
      "text/plain": [
       "<PIL.PngImagePlugin.PngImageFile image mode=RGB size=1000x400 at 0x126E0D080>"
      ]
     },
     "metadata": {},
     "output_type": "display_data"
    },
    {
     "data": {
      "text/html": [
       "<div>\n",
       "<style scoped>\n",
       "    .dataframe tbody tr th:only-of-type {\n",
       "        vertical-align: middle;\n",
       "    }\n",
       "\n",
       "    .dataframe tbody tr th {\n",
       "        vertical-align: top;\n",
       "    }\n",
       "\n",
       "    .dataframe thead th {\n",
       "        text-align: right;\n",
       "    }\n",
       "</style>\n",
       "<table border=\"1\" class=\"dataframe\">\n",
       "  <thead>\n",
       "    <tr style=\"text-align: right;\">\n",
       "      <th></th>\n",
       "      <th>smiles</th>\n",
       "      <th>distance</th>\n",
       "      <th>count</th>\n",
       "      <th>frequency</th>\n",
       "      <th>mol</th>\n",
       "    </tr>\n",
       "  </thead>\n",
       "  <tbody>\n",
       "    <tr>\n",
       "      <th>0</th>\n",
       "      <td>COC(=O)C1CCC(Oc2ccc(NC(=O)C(=O)NN)cn2)CC1</td>\n",
       "      <td>0.000007</td>\n",
       "      <td>42</td>\n",
       "      <td>0.666667</td>\n",
       "      <td>&lt;img data-content=\"rdkit/molecule\" src=\"data:i...</td>\n",
       "    </tr>\n",
       "    <tr>\n",
       "      <th>1</th>\n",
       "      <td>COC(=O)C1CCC(Oc2ccc(NC(=O)C(=O)NN)cn2)CS1</td>\n",
       "      <td>2.274277</td>\n",
       "      <td>1</td>\n",
       "      <td>0.015873</td>\n",
       "      <td>&lt;img data-content=\"rdkit/molecule\" src=\"data:i...</td>\n",
       "    </tr>\n",
       "    <tr>\n",
       "      <th>2</th>\n",
       "      <td>COC(=O)C1CCC(Nc2ccc(NC(=O)C(=O)NN)cn2)CC1</td>\n",
       "      <td>2.772543</td>\n",
       "      <td>1</td>\n",
       "      <td>0.015873</td>\n",
       "      <td>&lt;img data-content=\"rdkit/molecule\" src=\"data:i...</td>\n",
       "    </tr>\n",
       "    <tr>\n",
       "      <th>3</th>\n",
       "      <td>COC(=O)C1CCC(Oc2ccc(NC(=O)C(=O)NN)cn2)C1</td>\n",
       "      <td>3.329379</td>\n",
       "      <td>1</td>\n",
       "      <td>0.015873</td>\n",
       "      <td>&lt;img data-content=\"rdkit/molecule\" src=\"data:i...</td>\n",
       "    </tr>\n",
       "    <tr>\n",
       "      <th>4</th>\n",
       "      <td>COC(=O)C1CCC(Oc2ccc(NC(=O)C(=O)NN)nn2)CC1</td>\n",
       "      <td>3.372217</td>\n",
       "      <td>2</td>\n",
       "      <td>0.031746</td>\n",
       "      <td>&lt;img data-content=\"rdkit/molecule\" src=\"data:i...</td>\n",
       "    </tr>\n",
       "    <tr>\n",
       "      <th>5</th>\n",
       "      <td>COC(=O)C1CC(COc2ccc(NC(=O)C(=O)NN)cn2)CC1</td>\n",
       "      <td>8.874703</td>\n",
       "      <td>5</td>\n",
       "      <td>0.079365</td>\n",
       "      <td>&lt;img data-content=\"rdkit/molecule\" src=\"data:i...</td>\n",
       "    </tr>\n",
       "    <tr>\n",
       "      <th>6</th>\n",
       "      <td>COC(=O)C1CCC(Oc2ccc(NC(=O)C(=O)NC)cn2)CC1</td>\n",
       "      <td>14.765283</td>\n",
       "      <td>11</td>\n",
       "      <td>0.174603</td>\n",
       "      <td>&lt;img data-content=\"rdkit/molecule\" src=\"data:i...</td>\n",
       "    </tr>\n",
       "  </tbody>\n",
       "</table>\n",
       "</div>"
      ],
      "text/plain": [
       "                                      smiles   distance  count  frequency  \\\n",
       "0  COC(=O)C1CCC(Oc2ccc(NC(=O)C(=O)NN)cn2)CC1   0.000007     42   0.666667   \n",
       "1  COC(=O)C1CCC(Oc2ccc(NC(=O)C(=O)NN)cn2)CS1   2.274277      1   0.015873   \n",
       "2  COC(=O)C1CCC(Nc2ccc(NC(=O)C(=O)NN)cn2)CC1   2.772543      1   0.015873   \n",
       "3   COC(=O)C1CCC(Oc2ccc(NC(=O)C(=O)NN)cn2)C1   3.329379      1   0.015873   \n",
       "4  COC(=O)C1CCC(Oc2ccc(NC(=O)C(=O)NN)nn2)CC1   3.372217      2   0.031746   \n",
       "5  COC(=O)C1CC(COc2ccc(NC(=O)C(=O)NN)cn2)CC1   8.874703      5   0.079365   \n",
       "6  COC(=O)C1CCC(Oc2ccc(NC(=O)C(=O)NC)cn2)CC1  14.765283     11   0.174603   \n",
       "\n",
       "                                                 mol  \n",
       "0  <img data-content=\"rdkit/molecule\" src=\"data:i...  \n",
       "1  <img data-content=\"rdkit/molecule\" src=\"data:i...  \n",
       "2  <img data-content=\"rdkit/molecule\" src=\"data:i...  \n",
       "3  <img data-content=\"rdkit/molecule\" src=\"data:i...  \n",
       "4  <img data-content=\"rdkit/molecule\" src=\"data:i...  \n",
       "5  <img data-content=\"rdkit/molecule\" src=\"data:i...  \n",
       "6  <img data-content=\"rdkit/molecule\" src=\"data:i...  "
      ]
     },
     "execution_count": 8,
     "metadata": {},
     "output_type": "execute_result"
    }
   ],
   "source": [
    "noise=3.0\n",
    "print('Случайные молекулы находящиеся в {:.2f} стандартных отклонениях от точки'.format(noise))\n",
    "df = vae.z_to_smiles( z_1,decode_attempts=100,noise_norm=noise)\n",
    "print('Found {:d} unique mols, out of {:d}'.format(len(set(df['smiles'])),sum(df['count'])))\n",
    "print('SMILES\\n',df.smiles)\n",
    "display(PandasTools.FrameToGridImage(df,column='mol', legendsCol='smiles',molsPerRow=5))\n",
    "df"
   ]
  }
 ],
 "metadata": {
  "kernelspec": {
   "display_name": "Python [conda env:chemvae]",
   "language": "python",
   "name": "conda-env-chemvae-py"
  },
  "language_info": {
   "codemirror_mode": {
    "name": "ipython",
    "version": 3
   },
   "file_extension": ".py",
   "mimetype": "text/x-python",
   "name": "python",
   "nbconvert_exporter": "python",
   "pygments_lexer": "ipython3",
   "version": "3.6.10"
  }
 },
 "nbformat": 4,
 "nbformat_minor": 4
}
